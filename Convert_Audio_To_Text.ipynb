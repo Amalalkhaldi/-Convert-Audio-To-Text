{
  "nbformat": 4,
  "nbformat_minor": 0,
  "metadata": {
    "colab": {
      "name": "Convert-Audio-To-Text.ipynb",
      "provenance": [],
      "authorship_tag": "ABX9TyNUnS+VUJdFCNTFpSffqtE/",
      "include_colab_link": true
    },
    "kernelspec": {
      "name": "python3",
      "display_name": "Python 3"
    },
    "language_info": {
      "name": "python"
    }
  },
  "cells": [
    {
      "cell_type": "markdown",
      "metadata": {
        "id": "view-in-github",
        "colab_type": "text"
      },
      "source": [
        "<a href=\"https://colab.research.google.com/github/Amalalkhaldi/-Convert-Audio-To-Text/blob/main/Convert_Audio_To_Text.ipynb\" target=\"_parent\"><img src=\"https://colab.research.google.com/assets/colab-badge.svg\" alt=\"Open In Colab\"/></a>"
      ]
    },
    {
      "cell_type": "code",
      "execution_count": null,
      "metadata": {
        "id": "RSI-TYxqgRHm"
      },
      "outputs": [],
      "source": [
        ""
      ]
    }
  ]
}