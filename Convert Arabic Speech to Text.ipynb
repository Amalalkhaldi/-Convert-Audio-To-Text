{
 "cells": [
  {
   "cell_type": "code",
   "execution_count": 1,
   "id": "30159e39",
   "metadata": {},
   "outputs": [],
   "source": [
    "#!pip install pyttsx3\n",
    "#!pip install speechrecognition\n",
    "#pip install pipwin\n",
    "#!pipwin install pyaudio"
   ]
  },
  {
   "cell_type": "code",
   "execution_count": 2,
   "id": "60cee1aa",
   "metadata": {},
   "outputs": [],
   "source": [
    "import speech_recognition as sr \n"
   ]
  },
  {
   "cell_type": "code",
   "execution_count": 3,
   "id": "46b6ab9e",
   "metadata": {},
   "outputs": [],
   "source": [
    "r = sr.Recognizer()\n"
   ]
  },
  {
   "cell_type": "code",
   "execution_count": 4,
   "id": "1fe56596",
   "metadata": {},
   "outputs": [
    {
     "name": "stdout",
     "output_type": "stream",
     "text": [
      "Recognizing...\n",
      "يا هلا ومرحبا\n"
     ]
    }
   ],
   "source": [
    "with sr.Microphone() as source:\n",
    "    # read the audio data from the default microphone\n",
    "    audio_data = r.record(source, duration=5)\n",
    "    print(\"Recognizing...\")\n",
    "    # convert speech to text\n",
    "    text = r.recognize_google(audio_data, language=\"ar-QA\")\n",
    "    print(text)"
   ]
  },
  {
   "cell_type": "markdown",
   "id": "c464f8f4",
   "metadata": {},
   "source": [
    "Scorse code :https://www.thepythoncode.com/article/using-speech-recognition-to-convert-speech-to-text-python"
   ]
  },
  {
   "cell_type": "code",
   "execution_count": null,
   "id": "c378975d",
   "metadata": {},
   "outputs": [],
   "source": []
  },
  {
   "cell_type": "code",
   "execution_count": null,
   "id": "be1eb9e6",
   "metadata": {},
   "outputs": [],
   "source": []
  }
 ],
 "metadata": {
  "kernelspec": {
   "display_name": "Python 3 (ipykernel)",
   "language": "python",
   "name": "python3"
  },
  "language_info": {
   "codemirror_mode": {
    "name": "ipython",
    "version": 3
   },
   "file_extension": ".py",
   "mimetype": "text/x-python",
   "name": "python",
   "nbconvert_exporter": "python",
   "pygments_lexer": "ipython3",
   "version": "3.9.7"
  }
 },
 "nbformat": 4,
 "nbformat_minor": 5
}
